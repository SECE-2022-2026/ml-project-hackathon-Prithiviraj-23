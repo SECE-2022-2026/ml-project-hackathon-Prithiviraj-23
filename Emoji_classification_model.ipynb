{
 "cells": [
  {
   "cell_type": "code",
   "execution_count": 23,
   "id": "ad90cdbd-84c1-4ea3-9971-795557e2003f",
   "metadata": {},
   "outputs": [],
   "source": [
    "import os\n",
    "import numpy as np\n",
    "from tensorflow.keras.preprocessing.image import load_img, img_to_array\n",
    "from sklearn.model_selection import train_test_split\n"
   ]
  },
  {
   "cell_type": "code",
   "execution_count": 24,
   "id": "87dc6618-b803-4d35-bf02-f200f62b036d",
   "metadata": {},
   "outputs": [],
   "source": [
    "dataset_dir = 'datset' \n",
    "images = []\n",
    "labels = []\n",
    "label_map = {'happy': 0, 'sad': 1, 'angey': 2}"
   ]
  },
  {
   "cell_type": "code",
   "execution_count": 25,
   "id": "46f09258-2dba-4012-9862-29b9e263efc3",
   "metadata": {},
   "outputs": [],
   "source": [
    "for label_name in os.listdir(dataset_dir):\n",
    "    label_path = os.path.join(dataset_dir, label_name)\n",
    "    \n",
    "\n",
    "    if not os.path.isdir(label_path) or label_name.startswith('.'):\n",
    "        continue\n",
    "    \n",
    "    for img_name in os.listdir(label_path):\n",
    "        img_path = os.path.join(label_path, img_name)\n",
    "        \n",
    "        if not img_name.lower().endswith(('.png', '.jpg', '.jpeg')):\n",
    "            continue\n",
    "        \n",
    "        try:\n",
    "\n",
    "            img = load_img(img_path, target_size=(64, 64))  \n",
    "            img_array = img_to_array(img) / 255.0 \n",
    "            \n",
    "\n",
    "            images.append(img_array)\n",
    "            labels.append(label_map[label_name])\n",
    "        except Exception as e:\n",
    "            print(f\"Error loading image {img_path}: {e}\")\n",
    "            continue\n"
   ]
  },
  {
   "cell_type": "code",
   "execution_count": 26,
   "id": "4cd11a7c-838e-41ca-bc93-ecd1174bcc29",
   "metadata": {},
   "outputs": [],
   "source": [
    "images = np.array(images)\n",
    "labels = np.array(labels)"
   ]
  },
  {
   "cell_type": "code",
   "execution_count": 27,
   "id": "e1fcb604-aab2-4245-aa5c-01b57822e405",
   "metadata": {},
   "outputs": [
    {
     "name": "stdout",
     "output_type": "stream",
     "text": [
      "Train images shape: (652, 64, 64, 3)\n",
      "Test images shape: (164, 64, 64, 3)\n"
     ]
    }
   ],
   "source": [
    "\n",
    "X_train, X_test, y_train, y_test = train_test_split(images, labels, test_size=0.2, random_state=42)\n",
    "\n",
    "\n",
    "print(f\"Train images shape: {X_train.shape}\")\n",
    "print(f\"Test images shape: {X_test.shape}\")"
   ]
  },
  {
   "cell_type": "code",
   "execution_count": 28,
   "id": "bf01f71a-7f95-4ef9-a7f8-cf329122c0d4",
   "metadata": {},
   "outputs": [],
   "source": [
    "from tensorflow.keras.models import Sequential\n",
    "from tensorflow.keras.layers import Conv2D, MaxPooling2D, Flatten, Dense, Dropout\n",
    "\n",
    "model = Sequential()\n",
    "\n",
    "model.add(Conv2D(32, (3, 3), activation='relu', input_shape=(64, 64, 3))) \n",
    "model.add(MaxPooling2D(pool_size=(2, 2)))\n",
    "\n",
    "model.add(Conv2D(64, (3, 3), activation='relu'))\n",
    "model.add(MaxPooling2D(pool_size=(2, 2)))\n",
    "\n",
    "model.add(Flatten())\n",
    "\n",
    "model.add(Dense(128, activation='relu'))\n",
    "\n",
    "model.add(Dropout(0.5))\n",
    "\n",
    "model.add(Dense(3, activation='softmax'))"
   ]
  },
  {
   "cell_type": "code",
   "execution_count": 29,
   "id": "eee46575-bd87-4021-be30-b21db16999cb",
   "metadata": {},
   "outputs": [],
   "source": [
    "model.compile(optimizer='adam', \n",
    "              loss='sparse_categorical_crossentropy', \n",
    "              metrics=['accuracy'])"
   ]
  },
  {
   "cell_type": "code",
   "execution_count": 40,
   "id": "d5334d8c-9f1a-453f-a720-f9051873d0d5",
   "metadata": {},
   "outputs": [
    {
     "name": "stdout",
     "output_type": "stream",
     "text": [
      "Epoch 1/10\n",
      "\u001b[1m21/21\u001b[0m \u001b[32m━━━━━━━━━━━━━━━━━━━━\u001b[0m\u001b[37m\u001b[0m \u001b[1m5s\u001b[0m 79ms/step - accuracy: 0.4400 - loss: 1.4059 - val_accuracy: 0.6402 - val_loss: 0.7263\n",
      "Epoch 2/10\n",
      "\u001b[1m21/21\u001b[0m \u001b[32m━━━━━━━━━━━━━━━━━━━━\u001b[0m\u001b[37m\u001b[0m \u001b[1m1s\u001b[0m 69ms/step - accuracy: 0.7882 - loss: 0.5956 - val_accuracy: 1.0000 - val_loss: 0.2142\n",
      "Epoch 3/10\n",
      "\u001b[1m21/21\u001b[0m \u001b[32m━━━━━━━━━━━━━━━━━━━━\u001b[0m\u001b[37m\u001b[0m \u001b[1m2s\u001b[0m 70ms/step - accuracy: 0.9566 - loss: 0.1730 - val_accuracy: 1.0000 - val_loss: 0.0400\n",
      "Epoch 4/10\n",
      "\u001b[1m21/21\u001b[0m \u001b[32m━━━━━━━━━━━━━━━━━━━━\u001b[0m\u001b[37m\u001b[0m \u001b[1m1s\u001b[0m 69ms/step - accuracy: 0.9911 - loss: 0.0589 - val_accuracy: 1.0000 - val_loss: 0.0089\n",
      "Epoch 5/10\n",
      "\u001b[1m21/21\u001b[0m \u001b[32m━━━━━━━━━━━━━━━━━━━━\u001b[0m\u001b[37m\u001b[0m \u001b[1m2s\u001b[0m 83ms/step - accuracy: 0.9993 - loss: 0.0259 - val_accuracy: 1.0000 - val_loss: 0.0020\n",
      "Epoch 6/10\n",
      "\u001b[1m21/21\u001b[0m \u001b[32m━━━━━━━━━━━━━━━━━━━━\u001b[0m\u001b[37m\u001b[0m \u001b[1m2s\u001b[0m 72ms/step - accuracy: 0.9977 - loss: 0.0179 - val_accuracy: 1.0000 - val_loss: 9.7858e-04\n",
      "Epoch 7/10\n",
      "\u001b[1m21/21\u001b[0m \u001b[32m━━━━━━━━━━━━━━━━━━━━\u001b[0m\u001b[37m\u001b[0m \u001b[1m2s\u001b[0m 82ms/step - accuracy: 0.9992 - loss: 0.0060 - val_accuracy: 1.0000 - val_loss: 0.0023\n",
      "Epoch 8/10\n",
      "\u001b[1m21/21\u001b[0m \u001b[32m━━━━━━━━━━━━━━━━━━━━\u001b[0m\u001b[37m\u001b[0m \u001b[1m2s\u001b[0m 76ms/step - accuracy: 0.9880 - loss: 0.0232 - val_accuracy: 1.0000 - val_loss: 7.4376e-04\n",
      "Epoch 9/10\n",
      "\u001b[1m21/21\u001b[0m \u001b[32m━━━━━━━━━━━━━━━━━━━━\u001b[0m\u001b[37m\u001b[0m \u001b[1m2s\u001b[0m 86ms/step - accuracy: 0.9990 - loss: 0.0100 - val_accuracy: 1.0000 - val_loss: 5.9415e-04\n",
      "Epoch 10/10\n",
      "\u001b[1m21/21\u001b[0m \u001b[32m━━━━━━━━━━━━━━━━━━━━\u001b[0m\u001b[37m\u001b[0m \u001b[1m2s\u001b[0m 77ms/step - accuracy: 0.9986 - loss: 0.0110 - val_accuracy: 1.0000 - val_loss: 2.1050e-04\n"
     ]
    }
   ],
   "source": [
    "history = model.fit(X_train, y_train, \n",
    "                    epochs=10, \n",
    "                    batch_size=32, \n",
    "                    validation_data=(X_test, y_test))"
   ]
  },
  {
   "cell_type": "code",
   "execution_count": 42,
   "id": "0b66083b-143d-4ce0-8678-e08d14ae83cf",
   "metadata": {},
   "outputs": [
    {
     "name": "stderr",
     "output_type": "stream",
     "text": [
      "WARNING:absl:You are saving your model as an HDF5 file via `model.save()` or `keras.saving.save_model(model)`. This file format is considered legacy. We recommend using instead the native Keras format, e.g. `model.save('my_model.keras')` or `keras.saving.save_model(model, 'my_model.keras')`. \n"
     ]
    }
   ],
   "source": [
    "model.save('emoji_classification_model.h5')"
   ]
  },
  {
   "cell_type": "code",
   "execution_count": 43,
   "id": "420a450d-265f-41f2-ad3c-96c956155228",
   "metadata": {},
   "outputs": [
    {
     "name": "stdout",
     "output_type": "stream",
     "text": [
      "\u001b[1m1/1\u001b[0m \u001b[32m━━━━━━━━━━━━━━━━━━━━\u001b[0m\u001b[37m\u001b[0m \u001b[1m0s\u001b[0m 39ms/step\n",
      "Predicted label: Angry\n"
     ]
    }
   ],
   "source": [
    "def predict_emoji(image_path):\n",
    " \n",
    "    img = load_img(image_path, target_size=(64, 64)) \n",
    "    img_array = img_to_array(img) / 255.0 \n",
    "    \n",
    "    \n",
    "    img_array = np.expand_dims(img_array, axis=0)  \n",
    "    prediction = model.predict(img_array)  \n",
    "    \n",
    "    \n",
    "    predicted_class = np.argmax(prediction, axis=1)[0]\n",
    "    \n",
    "    \n",
    "    label_map = {0: 'Happy', 1: 'Sad', 2: 'Angry'}\n",
    "    predicted_label = label_map[predicted_class]\n",
    "    \n",
    "    return predicted_label\n",
    "\n",
    "#'archive/image/Apple/1.png\n",
    "#archive/image/Facebook/28.png\n",
    "#'archive/image/Facebook/57.png'\n",
    "#'archive/image/Facebook/33.png'\n",
    "#'archive/image/Facebook/103.png'\n",
    "image_path = 'archive/image/Facebook/103.png'\n",
    "predicted_label = predict_emoji(image_path)\n",
    "print(f\"Predicted label: {predicted_label}\")"
   ]
  },
  {
   "cell_type": "code",
   "execution_count": 44,
   "id": "4b0182a4-e3b0-4b6c-8e11-fef0429f4fc5",
   "metadata": {},
   "outputs": [
    {
     "name": "stdout",
     "output_type": "stream",
     "text": [
      "\u001b[1m6/6\u001b[0m \u001b[32m━━━━━━━━━━━━━━━━━━━━\u001b[0m\u001b[37m\u001b[0m \u001b[1m0s\u001b[0m 17ms/step - accuracy: 1.0000 - loss: 1.9898e-04\n",
      "Test Loss: 0.00021050153009127825\n",
      "Test Accuracy: 100.00%\n"
     ]
    }
   ],
   "source": [
    "test_loss, test_accuracy = model.evaluate(X_test, y_test, verbose=1)\n",
    "print(f\"Test Loss: {test_loss}\")\n",
    "print(f\"Test Accuracy: {test_accuracy * 100:.2f}%\")"
   ]
  },
  {
   "cell_type": "code",
   "execution_count": null,
   "id": "71c11b9c-372c-4f47-ae61-dd846c4ec987",
   "metadata": {},
   "outputs": [],
   "source": []
  }
 ],
 "metadata": {
  "kernelspec": {
   "display_name": "Python 3 (ipykernel)",
   "language": "python",
   "name": "python3"
  },
  "language_info": {
   "codemirror_mode": {
    "name": "ipython",
    "version": 3
   },
   "file_extension": ".py",
   "mimetype": "text/x-python",
   "name": "python",
   "nbconvert_exporter": "python",
   "pygments_lexer": "ipython3",
   "version": "3.11.7"
  }
 },
 "nbformat": 4,
 "nbformat_minor": 5
}
